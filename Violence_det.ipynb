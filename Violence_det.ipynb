{
  "nbformat": 4,
  "nbformat_minor": 0,
  "metadata": {
    "colab": {
      "provenance": [],
      "authorship_tag": "ABX9TyP7+GcdQLKPfjwEGNRRLfNq",
      "include_colab_link": true
    },
    "kernelspec": {
      "name": "python3",
      "display_name": "Python 3"
    },
    "language_info": {
      "name": "python"
    }
  },
  "cells": [
    {
      "cell_type": "markdown",
      "metadata": {
        "id": "view-in-github",
        "colab_type": "text"
      },
      "source": [
        "<a href=\"https://colab.research.google.com/github/Swarnlataaa/Video_analytics/blob/main/Violence_det.ipynb\" target=\"_parent\"><img src=\"https://colab.research.google.com/assets/colab-badge.svg\" alt=\"Open In Colab\"/></a>"
      ]
    },
    {
      "cell_type": "code",
      "execution_count": null,
      "metadata": {
        "id": "6iGKyR880JRu"
      },
      "outputs": [],
      "source": [
        "!pip install opencv-python-headless\n",
        "!pip install tensorflow\n",
        "!pip install keras\n"
      ]
    },
    {
      "cell_type": "code",
      "source": [
        "import cv2\n",
        "import numpy as np\n",
        "import tensorflow as tf\n",
        "from tensorflow import keras\n"
      ],
      "metadata": {
        "id": "coEJh7UQ2VkV"
      },
      "execution_count": null,
      "outputs": []
    },
    {
      "cell_type": "code",
      "source": [
        "base_model = keras.applications.VGG16(weights='imagenet', include_top=False, input_shape=(224, 224, 3))\n",
        "x = keras.layers.Flatten()(base_model.output)\n",
        "x = keras.layers.Dense(128, activation='relu')(x)\n",
        "x = keras.layers.Dropout(0.5)(x)\n",
        "output = keras.layers.Dense(1, activation='sigmoid')(x)\n",
        "model = keras.models.Model(inputs=base_model.input, outputs=output)\n",
        "\n",
        "# Compile the model\n",
        "model.compile(optimizer='adam', loss='binary_crossentropy', metrics=['accuracy'])\n"
      ],
      "metadata": {
        "id": "BSDOV6hL2cC2"
      },
      "execution_count": null,
      "outputs": []
    },
    {
      "cell_type": "code",
      "source": [
        "model.load_weights('path_to_weights.h5')\n"
      ],
      "metadata": {
        "id": "0tIFvKZ-2ePs"
      },
      "execution_count": null,
      "outputs": []
    },
    {
      "cell_type": "code",
      "source": [
        "# Capture video from a CCTV camera\n",
        "cap = cv2.VideoCapture(0)  # 0 for the default camera\n",
        "\n",
        "# Alternatively, you can read a video file\n",
        "# cap = cv2.VideoCapture('path_to_video.mp4')\n"
      ],
      "metadata": {
        "id": "MKioz4gy2hlg"
      },
      "execution_count": null,
      "outputs": []
    },
    {
      "cell_type": "code",
      "source": [
        "while True:\n",
        "    ret, frame = cap.read()\n",
        "\n",
        "    if not ret:\n",
        "        break\n",
        "\n",
        "    # Preprocess the frame (resize, normalize, etc.)\n",
        "    frame = cv2.resize(frame, (224, 224))\n",
        "    frame = frame / 255.0  # Normalize\n",
        "\n",
        "    # Make a prediction\n",
        "    prediction = model.predict(np.expand_dims(frame, axis=0))\n",
        "\n",
        "    if prediction[0][0] > 0.5:  # Adjust the threshold as needed\n",
        "        cv2.putText(frame, 'Violence Detected', (50, 50), cv2.FONT_HERSHEY_SIMPLEX, 1, (0, 0, 255), 2)\n",
        "\n",
        "    cv2.imshow('Violence Detection', frame)\n",
        "\n",
        "    if cv2.waitKey(1) & 0xFF == ord('q'):\n",
        "        break\n",
        "\n",
        "cap.release()\n",
        "cv2.destroyAllWindows()\n"
      ],
      "metadata": {
        "id": "KVw2QzL72icJ"
      },
      "execution_count": null,
      "outputs": []
    }
  ]
}